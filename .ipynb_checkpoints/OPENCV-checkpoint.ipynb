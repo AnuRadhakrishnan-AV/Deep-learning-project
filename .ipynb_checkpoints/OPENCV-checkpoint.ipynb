{
 "cells": [
  {
   "cell_type": "code",
   "execution_count": null,
   "id": "0444f25a",
   "metadata": {},
   "outputs": [],
   "source": [
    "from keras.models import load_model\n",
    "from time import sleep\n",
    "from tensorflow.keras.preprocessing.image import img_to_array\n",
    "from keras.preprocessing import image\n",
    "import cv2\n",
    "import numpy as np"
   ]
  },
  {
   "cell_type": "code",
   "execution_count": null,
   "id": "c0ece770",
   "metadata": {},
   "outputs": [],
   "source": [
    "#face_classifier=cv2.CascadeClassifier(r\"C:/Users/hp/Desktop/Deep learning project/images/haarcascade_frontalface_default.xml\")\n",
    "hcc=cv2.CascadeClassifier(cv2.data.haarcascades + \"haarcascade_frontalface_default.xml\")\n",
    "classifier=load_model(r\"C:/Users/hp/Desktop/Deep learning project/model.h5\")\n"
   ]
  },
  {
   "cell_type": "code",
   "execution_count": null,
   "id": "eb1de7c4",
   "metadata": {
    "scrolled": false
   },
   "outputs": [],
   "source": [
    "emotion_labels=[\"Angry\",\"Disgust\",\"Fear\",\"Happy\",\"Neutral\",\"Sad\",\"Surprise\"]\n",
    "cap=cv2.VideoCapture(0)\n",
    "\n",
    "while True:\n",
    "    flag,frame=cap.read()\n",
    "    labels=[]\n",
    "    gray=cv2.cvtColor(frame,cv2.COLOR_BGR2GRAY)\n",
    "    faces=hcc.detectMultiScale(gray)\n",
    "    for(x,y,w,h) in faces:\n",
    "        cv2.rectangle(frame,(x,y),(x+w,y+h),(0,255,255),2)\n",
    "        roi_gray=gray[y:y+h,x:x+w]\n",
    "        roi_gray=cv2.resize(roi_gray,(48,48),interpolation=cv2.INTER_AREA)\n",
    "        \n",
    "        \n",
    "        if np.sum([roi_gray])!=0:\n",
    "            roi=roi_gray.astype(\"float\")/255.0\n",
    "            roi=img_to_array(roi)\n",
    "            roi=np.expand_dims(roi,axis=0)\n",
    "            \n",
    "            \n",
    "            prediction=classifier.predict(roi)[0]\n",
    "            label=emotion_labels[prediction.argmax()]\n",
    "            label_position=(x,y-10)\n",
    "            cv2.imshow('frame',frame)\n",
    "            cv2.putText(frame,label,label_position,cv2.FONT_HERSHEY_SIMPLEX,1,(0,255,0),2)\n",
    "            \n",
    "        else:\n",
    "            cv2.putText(frame,\"No Faces\",(30,80),cv2.FONT_HERSHEY_SIMPLEX,1,(0,255,0),2)\n",
    "            cv2.imshow(\"Emotion Detector\",frame)\n",
    "            if cv2.waitKey(0)& 0xFF ==ord(\"q\"):\n",
    "                break\n",
    "cap.release()\n",
    "cv2.destroyAllWindows()\n",
    "                \n",
    "    "
   ]
  },
  {
   "cell_type": "code",
   "execution_count": null,
   "id": "082d0d5c",
   "metadata": {},
   "outputs": [],
   "source": []
  },
  {
   "cell_type": "code",
   "execution_count": null,
   "id": "b166764c",
   "metadata": {},
   "outputs": [],
   "source": []
  }
 ],
 "metadata": {
  "kernelspec": {
   "display_name": "Python 3 (ipykernel)",
   "language": "python",
   "name": "python3"
  },
  "language_info": {
   "codemirror_mode": {
    "name": "ipython",
    "version": 3
   },
   "file_extension": ".py",
   "mimetype": "text/x-python",
   "name": "python",
   "nbconvert_exporter": "python",
   "pygments_lexer": "ipython3",
   "version": "3.9.13"
  }
 },
 "nbformat": 4,
 "nbformat_minor": 5
}
